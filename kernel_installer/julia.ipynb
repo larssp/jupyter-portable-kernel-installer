{
 "cells": [
  {
   "cell_type": "markdown",
   "metadata": {},
   "source": [
    "# Installating Julia/IJulia on Jupyter-Portable (www.portabledevapps.net) via a Notebook\n",
    "###1 - Downloading and Installing the right Julia binary in the right place\n",
    "\n",
    "script downloaded from: https://github.com/winpython/winpython_afterdoc/blob/master/examples/installing_julia_and_ijulia.ipynb\n",
    "\n",
    "and slightly adapted."
   ]
  },
  {
   "cell_type": "code",
   "execution_count": null,
   "metadata": {},
   "outputs": [],
   "source": [
    "import os\n",
    "import sys\n",
    "import io"
   ]
  },
  {
   "cell_type": "markdown",
   "metadata": {},
   "source": [
    "Change the URLs, Checksums and JuliaVersion String in the following two cells and execute the cells:"
   ]
  },
  {
   "cell_type": "code",
   "execution_count": null,
   "metadata": {},
   "outputs": [],
   "source": [
    "JuliaVersion='1.3.1'"
   ]
  },
  {
   "cell_type": "code",
   "execution_count": null,
   "metadata": {},
   "outputs": [],
   "source": [
    "# downloading julia (~50MB, may take 1 minute or 2)\n",
    "try:\n",
    "    import urllib.request as urllib2  # Python 3\n",
    "except:\n",
    "    import urllib2  # Python 2\n",
    "if 'amd64' in sys.version.lower():\n",
    "    julia_binary=\"julia-\"+JuliaVersion+\"-win64.exe\"\n",
    "    julia_url=\"https://julialang-s3.julialang.org/bin/winnt/x64/1.3/julia-1.3.1-win64.exe\"\n",
    "    hashes=(\"fe285b4c7b91a038528a45715921e34c\", \"8350ca66f80484c5ca6f7341ffbdb9d5182f8d4231762d585e229567b227ef7f\" )\n",
    "else:\n",
    "    julia_binary=\"julia-\"+JuliaVersion+\"-win32.exe\"\n",
    "    julia_url=\"https://julialang-s3.julialang.org/bin/winnt/x86/1.3/julia-1.3.1-win32.exe\"\n",
    "    hashes=(\"56efbc8bafe2702b28b23f0aaa9840cb\", \"6f2255d7e1707af00549f06b334d7794c4cde5a1eb92776e31142fdf294768be\")\n",
    "    \n",
    "julia_installer=os.environ[\"HOME\"]+\"\\\\\"+julia_binary\n",
    "os.environ[\"julia_installer\"]=julia_installer"
   ]
  },
  {
   "cell_type": "markdown",
   "metadata": {},
   "source": [
    "Run everything below:"
   ]
  },
  {
   "cell_type": "code",
   "execution_count": null,
   "metadata": {},
   "outputs": [],
   "source": [
    "g = urllib2.urlopen(julia_url) \n",
    "with io.open(julia_installer, 'wb') as f:\n",
    "    f.write(g.read())\n",
    "g.close\n",
    "g = None"
   ]
  },
  {
   "cell_type": "code",
   "execution_count": null,
   "metadata": {},
   "outputs": [],
   "source": [
    "#checking it's there\n",
    "!dir %julia_installer%"
   ]
  },
  {
   "cell_type": "code",
   "execution_count": null,
   "metadata": {},
   "outputs": [],
   "source": [
    "# checking it's the official julia binary\n",
    "import hashlib\n",
    "def give_hash(of_file, with_this):\n",
    "    with io.open(julia_installer, 'rb') as f:\n",
    "        return with_this(f.read()).hexdigest()  \n",
    "print (\" \"*12+\"MD5\"+\" \"*(32-12-3)+\" \"+\" \"*30+\"SHA-256\"+\" \"*30+\"\\n\"+\"-\"*32+\" \"+\"-\"*65)\n",
    "\n",
    "print (\"%s %s %s\" % (give_hash(julia_installer, hashlib.md5) , give_hash(julia_installer, hashlib.sha256),julia_installer))\n",
    "assert give_hash(julia_installer, hashlib.md5) == hashes[0]\n",
    "assert give_hash(julia_installer, hashlib.sha256) == hashes[1]"
   ]
  },
  {
   "cell_type": "code",
   "execution_count": null,
   "metadata": {},
   "outputs": [],
   "source": [
    "os.environ[\"JULIA_HOME\"] = os.environ[\"APPSDIR\"]+\"\\\\Julia-\"+JuliaVersion+\"\\\\\"\n",
    "os.environ[\"JULIA_EXE_PATH\"] = os.path.join(os.environ[\"JULIA_HOME\"],'bin')\n",
    "os.environ[\"JULIA_EXE\"]=\"julia.exe\"\n",
    "os.environ[\"JULIA\"]=os.environ[\"JULIA_EXE_PATH\"]+os.environ[\"JULIA_EXE\"]\n",
    "# for installation we need this\n",
    "os.environ[\"JULIAROOT\"]=os.environ[\"JULIA_HOME\"]"
   ]
  },
  {
   "cell_type": "code",
   "execution_count": null,
   "metadata": {},
   "outputs": [],
   "source": [
    "print('JULIA_HOME: '+os.environ[\"JULIA_HOME\"])\n",
    "print('JULIA_EXE_PATH: '+os.environ[\"JULIA_EXE_PATH\"])\n",
    "print('JULIA_EXE: '+os.environ[\"JULIA_EXE\"])\n",
    "print('JULIA: '+os.environ[\"JULIA\"])\n",
    "print('JULIAROOT: '+os.environ[\"JULIAROOT\"])"
   ]
  },
  {
   "cell_type": "code",
   "execution_count": null,
   "metadata": {},
   "outputs": [],
   "source": [
    "# let's install it (add a  /S before /D if you want silence mode installation)\n",
    "\n",
    "# If you are \"USB life style\", or multi-winpython\n",
    "#   ==> UN-CLICK the OPTION 'CREATE a StartMenuFolder and Shortcut' <== (when it will show up)\n",
    "\n",
    "!start cmd /C %julia_installer% /D=%JULIAROOT%\n"
   ]
  },
  {
   "cell_type": "markdown",
   "metadata": {},
   "source": [
    "<img src=\"https://raw.githubusercontent.com/stonebig/winpython_afterdoc/master/examples/images/julia_setup_unclick_all.GIF\">"
   ]
  },
  {
   "cell_type": "markdown",
   "metadata": {},
   "source": [
    "###2 - Initialize Julia , IJulia, and make them link to winpython"
   ]
  },
  {
   "cell_type": "code",
   "execution_count": null,
   "metadata": {},
   "outputs": [],
   "source": [
    "# Writing a julia initial run script, for convenience\n",
    "bat_text = r\"\"\"\n",
    "@echo off\n",
    "set PATH=%APPSDIR%\\Lib\\site-packages\\PyQt5;%APPSDIR%\\Lib\\site-packages\\PyQt4;%APPSDIR%\\;%APPSDIR%\\DLLs;%APPSDIR%\\scripts;%APPSDIR%;%APPSDIR%\\Julia-JuliaVersion\\bin;%PATH%\n",
    "\n",
    "if  exist \"%JULIA_HOME%\" goto julia_next\n",
    "echo --------------------\n",
    "echo First install Julia in \\t\\Julia-1.0.0 of winpython\n",
    "echo suggestion : don't create Julia shortcuts, nor menu, nor desktop icons \n",
    "echo (they would create a .julia in your home directory rather than here)\n",
    "echo When this is done, launch this .bat again \n",
    "\n",
    "if not exist \"%JULIA_HOME%\" echo JULIA_HOME is not set in Environment Variables\n",
    "if not exist \"%JULIA_HOME%\" goto julia_end\n",
    "\n",
    ":julia_next\n",
    "set SYS_PATH=%PATH%\n",
    "set PATH=%JULIA_EXE_PATH%;%SYS_PATH%\n",
    "\n",
    "set JULIA_EXE=julia.exe\n",
    "set JULIA=%JULIA_EXE_PATH%%JULIA_EXE%\n",
    "set JULIA_DEPOT_PATH=%APPSDIR%\\Julia-JuliaVersion\\.julia\n",
    "set JULIA_HOME=%APPSDIR%\\Julia-JuliaVersion\\\n",
    "set JULIA_HISTORY=%APPSDIR%\\Julia-JuliaVersion\\.julia\\logs\\repl_history.jl\n",
    "\n",
    "if not exist \"%JULIA_DEPOT_PATH%\" mkdir \"%JULIA_DEPOT_PATH%\"\n",
    "\n",
    "if not exist \"%APPSDIR%\\Julia-JuliaVersion\\.julia\\logs\\\" mkdir \"%APPSDIR%\\Julia-JuliaVersion\\.julia\\logs\\\"\n",
    "\n",
    "set private_libdir=bin\n",
    "if not exist \"%JULIA_HOME%lib\\julia\\sys.ji\" ( ^\n",
    "echo \"Preparing Julia for first launch. This may take a while\"  \n",
    "popd && pushd \"%cd%\" )\n",
    "\n",
    "echo \"julia!\"\n",
    "echo --------------------\n",
    "echo 1) julia package manager will be initialized\n",
    "echo 2) the WinRPM package will be added (for sysimg compilation)   -- currently not supported\n",
    "echo 3) the julia sysimg will be compiled for your system.          -- currently not supported\n",
    "echo 4) the following packages will be installed:\n",
    "echo    IJulia, PyCall, PyPlot, Interact, Compose, SymPy\n",
    "echo. \n",
    "echo.\n",
    "echo NOTE: Windows 7/Windows Server 2012 users also require \n",
    "echo       TLS \"Easy Fix\" update, and Windows Management \n",
    "echo       Framework 3.0 or later\n",
    "echo       \"Easy Fix\": https://bit.ly/2LNjZir\n",
    "echo.\n",
    "pause\n",
    "rem --------- build sys image ---------------\n",
    "echo using Pkg;>this_is_temporary.jl\n",
    "echo Pkg.instantiate();>>this_is_temporary.jl\n",
    "echo Pkg.update();>>this_is_temporary.jl\n",
    "rem echo Pkg.add(\"https://github.com/JuliaPackaging/WinRPM.jl\");>>this_is_temporary.jl\n",
    "rem echo using WinRPM;>>this_is_temporary.jl\n",
    "rem echo WinRPM.update();>>this_is_temporary.jl\n",
    "rem echo WinRPM.install(\"gcc\"; yes=true);>>this_is_temporary.jl\n",
    "rem echo include(joinpath(JULIA_HOME, Base.DATAROOTDIR, \"julia\", \"build_sysimg.jl\"));>>this_is_temporary.jl\n",
    "rem echo build_sysimg(ENV[\"JULIA_HOME\"]*\"\\\\lib\\\\julia\\\\sys\",\"native\",nothing;force=true);>>this_is_temporary.jl\n",
    "@echo on\n",
    "%JULIA% this_is_temporary.jl  \n",
    "@echo off\n",
    "rem ------------- install IJulia -------------\n",
    "echo ENV[\"JUPYTER\"]=ENV[\"APPSDIR\"]*\"\\\\scripts\\\\jupyter\";>this_is_temporary2.jl\n",
    "echo ENV[\"PYTHON\"]=ENV[\"APPSDIR\"]*\"\\\\python.exe\";>>this_is_temporary2.jl\n",
    "echo using Pkg;>>this_is_temporary2.jl\n",
    "echo Pkg.add(\"PyCall\");>>this_is_temporary2.jl\n",
    "echo Pkg.add(\"IJulia\");>>this_is_temporary2.jl\n",
    "echo Pkg.add(\"PyPlot\");>>this_is_temporary2.jl\n",
    "echo Pkg.add(\"Interact\");>>this_is_temporary2.jl\n",
    "rem echo Pkg.add(\"Compose\");>>this_is_temporary2.jl\n",
    "echo Pkg.add(\"SymPy\");>>this_is_temporary2.jl\n",
    "rem  ---- init pre-compilation ---\n",
    "echo using PyCall;>>this_is_temporary2.jl\n",
    "echo using IJulia;>>this_is_temporary2.jl\n",
    "echo using PyPlot;>>this_is_temporary2.jl\n",
    "echo using Interact;>>this_is_temporary2.jl\n",
    "rem echo using Compose;>>this_is_temporary2.jl\n",
    "echo using SymPy;>>this_is_temporary2.jl\n",
    "rem echo Pkg.precompile()>>this_is_temporary2.jl\n",
    "@echo on\n",
    "%JULIA% this_is_temporary2.jl  \n",
    "@echo off\n",
    "echo.\n",
    "echo.\n",
    "echo IJulia installed !\n",
    "echo.\n",
    "echo.\n",
    "pause\n",
    ":julia_end\n",
    "rem cmd.exe /k\n",
    "\"\"\"\n",
    "bat_text = bat_text.replace(\"Julia-JuliaVersion\",'Julia-'+JuliaVersion)\n",
    "julia_initializer_bat=os.environ[\"APPSDIR\"]+\"\\\\scripts\\\\initialize_julia_once.bat\"\n",
    "if sys.version_info[0] == 3:\n",
    "    with io.open(julia_initializer_bat, 'w', encoding = sys.getdefaultencoding() ) as f:\n",
    "        for line in bat_text.splitlines():\n",
    "            f.write('%s\\n' %  line  )\n",
    "else:\n",
    "    with io.open(julia_initializer_bat, 'wb'  ) as f:\n",
    "        for line in bat_text.splitlines():\n",
    "            f.write('%s\\r\\n' %  line.encode(sys.getdefaultencoding()) )"
   ]
  },
  {
   "cell_type": "code",
   "execution_count": null,
   "metadata": {},
   "outputs": [],
   "source": [
    "# let's initialize Julia and install \"IJulia\", \"PyCall\", and \"PyPlot\" Julia modules with this .bat just created\n",
    "# may take about 10 minutes (Julia pre-compiles itself and download a lot of things)\n",
    "!start cmd /C %APPSDIR%\\\\scripts\\\\initialize_julia_once.bat"
   ]
  },
  {
   "cell_type": "code",
   "execution_count": null,
   "metadata": {},
   "outputs": [],
   "source": [
    "# the path to kernel.jl is hardcoded in the kernel.json file\n",
    "# this will cause trouble, if the drive letter of the usb drive changes\n",
    "# use relative paths instead\n",
    "# rewrite kernel.json and delete the one created from IJulia.jl Package\n",
    "kernel_path = os.environ[\"APPSDIR\"]+\"\\\\share\\\\jupyter\\\\kernels\\\\julia-\"+JuliaVersion\n",
    "\n",
    "if not os.path.isdir(kernel_path):\n",
    "    os.mkdir(kernel_path)\n",
    "    \n",
    "os.rename(os.environ[\"APPSDIR\"]+\"\\\\datafiles\\\\kernels\\\\julia-\"+JuliaVersion[0:3]+\"\\\\logo-32x32.png\",kernel_path+\"\\\\logo-32x32.png\")\n",
    "os.rename(os.environ[\"APPSDIR\"]+\"\\\\datafiles\\\\kernels\\\\julia-\"+JuliaVersion[0:3]+\"\\\\logo-64x64.png\",kernel_path+\"\\\\logo-64x64.png\")\n",
    "\n",
    "os.remove(os.environ[\"APPSDIR\"]+\"\\\\datafiles\\\\kernels\\\\julia-\"+JuliaVersion[0:3]+\"\\\\kernel.json\")\n",
    "os.rmdir(os.environ[\"APPSDIR\"]+\"\\\\datafiles\\\\kernels\\\\julia-\"+JuliaVersion[0:3])\n",
    "\n",
    "pkg_crcs = os.listdir(os.environ[\"JULIA_HOME\"]+\"\\\\.julia\\\\packages\\\\IJulia\")\n",
    "\n",
    "last_mod_time = 0.0\n",
    "latest_pkg    = \"\"\n",
    "for pkdir in pkg_crcs:\n",
    "    i_mod_time = os.path.getmtime(os.environ[\"JULIA_HOME\"]+\"\\\\.julia\\\\packages\\\\IJulia\\\\\"+pkdir)\n",
    "    if i_mod_time > last_mod_time:\n",
    "        last_mod_time = i_mod_time\n",
    "        latest_pkg = pkdir\n",
    "\n",
    "kernel_str = r\"\"\"{\n",
    "  \"display_name\": \"Julia-JuliaVersion\",\n",
    "  \"argv\": [\n",
    "    \"{prefix}\\\\Julia-JuliaVersion\\\\bin\\\\julia.exe\",\n",
    "    \"-i\",\n",
    "    \"--startup-file=yes\",\n",
    "    \"--color=yes\",\n",
    "    \"--project=@.\",\n",
    "    \"{prefix}\\\\Julia-JuliaVersion\\\\.julia\\\\packages\\\\IJulia\\\\latest_pkg_dir\\\\src\\\\kernel.jl\",\n",
    "    \"{connection_file}\"\n",
    "  ],\n",
    "  \"language\": \"julia\",\n",
    "  \"env\": {},\n",
    "  \"interrupt_mode\": \"message\"\n",
    "}\n",
    "\"\"\"\n",
    "\n",
    "kernel_str = kernel_str.replace(\"JuliaVersion\",JuliaVersion)\n",
    "kernel_str = kernel_str.replace(\"latest_pkg_dir\",latest_pkg)\n",
    "\n",
    "if sys.version_info[0] == 3:\n",
    "    with io.open(kernel_path+\"\\\\kernel.json\", 'w', encoding = sys.getdefaultencoding() ) as f:\n",
    "        for line in kernel_str.splitlines():\n",
    "            f.write('%s\\n' %  line  )\n",
    "else:\n",
    "    with io.open(kernel_path+\"\\\\kernel.json\", 'wb'  ) as f:\n",
    "        for line in kernel_str.splitlines():\n",
    "            f.write('%s\\r\\n' %  line.encode(sys.getdefaultencoding()) )\n",
    "\n",
    "\n",
    "# add JULIA_DEPOT_PATH env variable \n",
    "inp_str = r\"\"\"\n",
    "\n",
    "if not exist \"%APPSDIR%\\Julia-JuliaVersion\\bin\" goto julia_bad\n",
    "set JULIA_DEPOT_PATH=%APPSDIR%\\Julia-JuliaVersion\\.julia\n",
    "set JULIA_PKGDIR=%APPSDIR%\\Julia-JuliaVersion\\.julia\n",
    "rem set JULIA_EXE=julia.exe\n",
    "set JULIA_HOME=%APPSDIR%\\Julia-JuliaVersion\\\n",
    "set JULIA_HISTORY=%APPSDIR%\\Julia-JuliaVersion\\.julia\\logs\\repl_history.jl\n",
    ":julia_bad\n",
    "\n",
    "\"\"\"\n",
    "\n",
    "inp_str = inp_str.replace(\"JuliaVersion\",JuliaVersion)\n",
    "\n",
    "# Read in the file\n",
    "with open(os.environ[\"APPSDIR\"]+\"\\\\scripts\\\\env.bat\", 'r') as file :\n",
    "  filedata = file.read()\n",
    "\n",
    "# Replace the target string\n",
    "filedata = filedata+inp_str\n",
    "\n",
    "# the env.bat has the \"hidden\" file attribute and is therefore not writable\n",
    "os.system(\"attrib -h \"+os.environ[\"APPSDIR\"]+\"\\\\scripts\\\\env.bat\")\n",
    "\n",
    "# Write the file out again\n",
    "with open(os.environ[\"APPSDIR\"]+\"\\\\scripts\\\\env.bat\", 'w') as file:\n",
    "  file.write(filedata)\n",
    "\n",
    "# restore the hidden file attribute of env.bat\n",
    "os.system(\"attrib +h \"+os.environ[\"APPSDIR\"]+\"\\\\scripts\\\\env.bat\")"
   ]
  },
  {
   "cell_type": "code",
   "execution_count": null,
   "metadata": {},
   "outputs": [],
   "source": [
    "# clean up\n",
    "\n",
    "os.remove(os.environ[\"APPSDIR\"]+\"\\\\scripts\\\\initialize_julia_once.bat\")\n",
    "os.remove(julia_installer)\n",
    "os.remove(\"this_is_temporary.jl\")\n",
    "os.remove(\"this_is_temporary2.jl\")"
   ]
  }
 ],
 "metadata": {
  "kernelspec": {
   "display_name": "Python 3",
   "language": "python",
   "name": "python3"
  },
  "language_info": {
   "codemirror_mode": {
    "name": "ipython",
    "version": 3
   },
   "file_extension": ".py",
   "mimetype": "text/x-python",
   "name": "python",
   "nbconvert_exporter": "python",
   "pygments_lexer": "ipython3",
   "version": "3.7.0"
  }
 },
 "nbformat": 4,
 "nbformat_minor": 2
}
