{
 "cells": [
  {
   "cell_type": "markdown",
   "metadata": {},
   "source": [
    "# Installating Scilab on Jupyter-Portable (www.portabledevapps.net) via a Notebook"
   ]
  },
  {
   "cell_type": "code",
   "execution_count": null,
   "metadata": {},
   "outputs": [],
   "source": [
    "import os\n",
    "import sys\n",
    "import io"
   ]
  },
  {
   "cell_type": "code",
   "execution_count": null,
   "metadata": {},
   "outputs": [],
   "source": [
    "try:\n",
    "    import urllib.request as urllib2  # Python 3\n",
    "except:\n",
    "    import urllib2  # Python 2\n",
    "if 'amd64' in sys.version.lower():\n",
    "    scilab_exe=\"scilab-6.0.1_x64.exe\"\n",
    "    scilab_url=\"http://www.scilab.org/download/6.0.1/scilab-6.0.1_x64.exe\"\n",
    "    hashes=\"57c915430bd4a47b0c0bdc124a96a2190fa527ac46978f407f2d1689f3b566f7\"\n",
    "else:\n",
    "    scilab_exe=\"scilab-6.0.1.exe\"\n",
    "    scilab_url=\"http://www.scilab.org/download/6.0.1/scilab-6.0.1.exe\"\n",
    "    hashes=\"425e08b41eb5b5bdad0599234a5c4c430caf86c333af8d5e61f16f4b6d38b265\"\n",
    "    \n",
    "scilab_installer=os.environ[\"APPSDIR\"]+\"\\\\datafiles\\\\\"+scilab_exe"
   ]
  },
  {
   "cell_type": "code",
   "execution_count": null,
   "metadata": {},
   "outputs": [],
   "source": [
    "# start download\n",
    "g = urllib2.urlopen(scilab_url) \n",
    "with io.open(scilab_installer, 'wb') as f:\n",
    "    f.write(g.read())\n",
    "g.close\n",
    "g = None"
   ]
  },
  {
   "cell_type": "code",
   "execution_count": null,
   "metadata": {},
   "outputs": [],
   "source": [
    "# checking the hashes\n",
    "import hashlib\n",
    "def give_hash(of_file, with_this):\n",
    "    with io.open(scilab_installer, 'rb') as f:\n",
    "        return with_this(f.read()).hexdigest()  \n",
    "print (\" \"*30+\"SHA-256\"+\" \"*30+\"\\n\"+\"-\"*65)\n",
    "\n",
    "print (\"%s %s\" % (give_hash(scilab_installer, hashlib.sha256),scilab_installer))\n",
    "assert give_hash(scilab_installer, hashlib.sha256) == hashes"
   ]
  },
  {
   "cell_type": "code",
   "execution_count": null,
   "metadata": {},
   "outputs": [],
   "source": [
    "# create setup configuration INF file\n",
    "inf_txt = r\"\"\"[Setup]\n",
    "Lang=en_EN\n",
    "Dir=\n",
    "DisableProgramGroupPage=yes\n",
    "Group=\n",
    "NoIcons=1\n",
    "SetupType=full\n",
    "Components=scilab,jvm_module,jvm_module\\graphics,jvm_module\\graphics\\xcos,jvm_module\\scinotes,jvm_module\\jre_1_6,cpu_optimization,cpu_optimization\\mkl,fftw,fftw\\ref_library,development_tools,development_tools\\modules_manager,development_tools\\toolbox_skeleton,development_tools\\tests,mpi,tclsci\n",
    "Tasks=\"\"\n",
    "\"\"\"\n",
    "\n",
    "inf_txt = inf_txt.replace(\"Dir=\",\"Dir=\"+os.environ[\"APPSDIR\"]+\"\\\\scilab\")\n",
    "\n",
    "if sys.version_info[0] == 3:\n",
    "    with io.open(\"scilab_install.inf\", 'w', encoding = sys.getdefaultencoding() ) as f:\n",
    "        for line in inf_txt.splitlines():\n",
    "            f.write('%s\\n' %  line  )\n",
    "else:\n",
    "    with io.open(\"scilab_install.inf\", 'wb'  ) as f:\n",
    "        for line in inf_txt.splitlines():\n",
    "            f.write('%s\\r\\n' %  line.encode(sys.getdefaultencoding()) )"
   ]
  },
  {
   "cell_type": "code",
   "execution_count": null,
   "metadata": {},
   "outputs": [],
   "source": [
    "# install scilab\n",
    "!start cmd /C %scilab_installer% /SP- /VERYSILENT /SUPPRESSMSGBOXES /NORESTART /NOICONS /LOADINF=scilab_install.inf"
   ]
  },
  {
   "cell_type": "code",
   "execution_count": null,
   "metadata": {},
   "outputs": [],
   "source": [
    "# install scilab Jupyter kernel\n",
    "!start cmd /C pip install scilab_kernel"
   ]
  },
  {
   "cell_type": "code",
   "execution_count": null,
   "metadata": {},
   "outputs": [],
   "source": [
    "SCILAB_EXECUTABLE\n",
    "\n",
    "# add scilab environment variables to the Jupyter Environment\n",
    "inp_str = r\"\"\"\n",
    "rem ******************\n",
    "rem handle scilab if included\n",
    "rem ******************\n",
    "if not exist \"%APPSDIR%\\scilab\" goto scilab_bad\n",
    "set SCILAB_EXECUTABLE=%APPSDIR%\\octave\\mingw64\\bin\\octave-cli.exe\n",
    ":scilab_bad\n",
    "\"\"\"\n",
    "\n",
    "if not ('amd64' in sys.version.lower()):\n",
    "    inp_str = inp_str.replace('mingw64','mingw32')\n",
    "\n",
    "# the env.bat has the \"hidden\" file attribute and is therefore not writable\n",
    "os.system(\"attrib -h \"+os.environ[\"APPSDIR\"]+\"\\\\scripts\\\\env.bat\")\n",
    "\n",
    "with open(os.environ[\"APPSDIR\"]+\"\\\\scripts\\\\env.bat\", \"a\") as myfile:\n",
    "    myfile.write(inp_str)\n",
    "    \n",
    "# restore the hidden file attribute of env.bat\n",
    "os.system(\"attrib +h \"+os.environ[\"APPSDIR\"]+\"\\\\scripts\\\\env.bat\")"
   ]
  },
  {
   "cell_type": "code",
   "execution_count": null,
   "metadata": {},
   "outputs": [],
   "source": [
    "# clean up\n",
    "os.remove(\"scilab_install.inf\")"
   ]
  }
 ],
 "metadata": {
  "kernelspec": {
   "display_name": "Python 3",
   "language": "python",
   "name": "python3"
  },
  "language_info": {
   "codemirror_mode": {
    "name": "ipython",
    "version": 3
   },
   "file_extension": ".py",
   "mimetype": "text/x-python",
   "name": "python",
   "nbconvert_exporter": "python",
   "pygments_lexer": "ipython3",
   "version": "3.7.0"
  }
 },
 "nbformat": 4,
 "nbformat_minor": 2
}
