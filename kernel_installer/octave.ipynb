{
 "cells": [
  {
   "cell_type": "markdown",
   "metadata": {},
   "source": [
    "# Installating Octave on Jupyter-Portable (www.portabledevapps.net) via a Notebook"
   ]
  },
  {
   "cell_type": "code",
   "execution_count": null,
   "metadata": {},
   "outputs": [],
   "source": [
    "import os\n",
    "import sys\n",
    "import io"
   ]
  },
  {
   "cell_type": "code",
   "execution_count": null,
   "metadata": {},
   "outputs": [],
   "source": [
    "try:\n",
    "    import urllib.request as urllib2  # Python 3\n",
    "except:\n",
    "    import urllib2  # Python 2\n",
    "if 'amd64' in sys.version.lower():\n",
    "    octave_7z=\"octave-5.1.0-w64.7z\"\n",
    "    octave_url=\"https://ftpmirror.gnu.org/octave/windows/octave-5.1.0-w64.7z\"\n",
    "    hashes=\"b13549ad2f69654e25d51c70aad9dfe0635007303d855550c7c6dc2f73af8035\" # sha256\n",
    "else:\n",
    "    octave_7z=\"octave-5.1.0-w32.7z\"\n",
    "    octave_url=\"https://ftpmirror.gnu.org/octave/windows/octave-5.1.0-w32.7z\"\n",
    "    hashes=\"b7a8fb8c78c781285ab12f4dedbdc07fdc42c3a03da812ffe2eaa77d49872618\" # sha256\n",
    "    \n",
    "octave_archive=os.environ[\"APPSDIR\"]+\"\\\\datafiles\\\\\"+octave_7z\n",
    "# We neet 7zip to extract the archive. If the Julia kernel is installed, it will be in apps\\Julia-<Version>\\libexec\n",
    "p7zexe=os.environ[\"APPSDIR\"]+\"\\\\Julia-1.3.1\\\\libexec\\\\7z.exe\""
   ]
  },
  {
   "cell_type": "code",
   "execution_count": null,
   "metadata": {},
   "outputs": [],
   "source": [
    "# start download\n",
    "g = urllib2.urlopen(octave_url) \n",
    "with io.open(octave_archive, 'wb') as f:\n",
    "    f.write(g.read())\n",
    "g.close\n",
    "g = None"
   ]
  },
  {
   "cell_type": "code",
   "execution_count": null,
   "metadata": {},
   "outputs": [],
   "source": [
    "# checking the hashes\n",
    "import hashlib\n",
    "def give_hash(of_file, with_this):\n",
    "    with io.open(octave_archive, 'rb') as f:\n",
    "        return with_this(f.read()).hexdigest()  \n",
    "print (\" \"*30+\"SHA-256\"+\" \"*30+\"\\n\"+\"-\"*65)\n",
    "\n",
    "print (\"%s %s\" % (give_hash(octave_archive, hashlib.sha256),octave_archive))\n",
    "assert give_hash(octave_archive, hashlib.sha256) == hashes"
   ]
  },
  {
   "cell_type": "code",
   "execution_count": null,
   "metadata": {},
   "outputs": [],
   "source": [
    "#extract the 7z archive\n",
    "from subprocess import run\n",
    "extr_path = os.environ[\"APPSDIR\"]\n",
    "run(p7zexe+' x '+ octave_archive + ' -o' + extr_path)\n",
    "os.remove(octave_archive)"
   ]
  },
  {
   "cell_type": "code",
   "execution_count": null,
   "metadata": {},
   "outputs": [],
   "source": [
    "#rename\n",
    "tools = os.listdir(os.environ[\"APPSDIR\"])\n",
    "for i in range(len(tools)):\n",
    "    if tools[i][0:7] == \"octave-\":\n",
    "        os.rename(os.environ[\"APPSDIR\"]+\"\\\\\"+tools[i],os.environ[\"APPSDIR\"]+\"\\\\\"+\"octave\")    "
   ]
  },
  {
   "cell_type": "code",
   "execution_count": null,
   "metadata": {},
   "outputs": [],
   "source": [
    "# Installing iOctave via pip\n",
    "!start cmd /C pip install octave_kernel"
   ]
  },
  {
   "cell_type": "code",
   "execution_count": null,
   "metadata": {},
   "outputs": [],
   "source": [
    "# add octave environment variables to the Jupyter Environment\n",
    "inp_str = r\"\"\"\n",
    "rem ******************\n",
    "rem handle octave if included\n",
    "rem ******************\n",
    "if not exist \"%APPSDIR%\\octave\" goto octave_bad\n",
    "set OCTAVE_EXECUTABLE=%APPSDIR%\\octave\\mingw64\\bin\\octave-cli.exe\n",
    "set OCTAVE_KERNEL_JSON=%APPSDIR%\\share\\jupyter\\kernels\\octave\\kernel.json\n",
    ":octave_bad\n",
    "\"\"\"\n",
    "\n",
    "if not ('amd64' in sys.version.lower()):\n",
    "    inp_str = inp_str.replace('mingw64','mingw32')\n",
    "\n",
    "# the env.bat has the \"hidden\" file attribute and is therefore not writable\n",
    "os.system(\"attrib -h \"+os.environ[\"APPSDIR\"]+\"\\\\scripts\\\\env.bat\")\n",
    "\n",
    "with open(os.environ[\"APPSDIR\"]+\"\\\\scripts\\\\env.bat\", \"a\") as myfile:\n",
    "    myfile.write(inp_str)\n",
    "    \n",
    "# restore the hidden file attribute of env.bat\n",
    "os.system(\"attrib +h \"+os.environ[\"APPSDIR\"]+\"\\\\scripts\\\\env.bat\")"
   ]
  },
  {
   "cell_type": "code",
   "execution_count": null,
   "metadata": {},
   "outputs": [],
   "source": []
  }
 ],
 "metadata": {
  "kernelspec": {
   "display_name": "Python 3",
   "language": "python",
   "name": "python3"
  },
  "language_info": {
   "codemirror_mode": {
    "name": "ipython",
    "version": 3
   },
   "file_extension": ".py",
   "mimetype": "text/x-python",
   "name": "python",
   "nbconvert_exporter": "python",
   "pygments_lexer": "ipython3",
   "version": "3.7.0"
  }
 },
 "nbformat": 4,
 "nbformat_minor": 2
}
