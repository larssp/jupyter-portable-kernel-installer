{
 "cells": [
  {
   "cell_type": "markdown",
   "metadata": {},
   "source": [
    "# Installating R on Jupyter-Portable (www.portabledevapps.net) via a Notebook\n"
   ]
  },
  {
   "cell_type": "code",
   "execution_count": null,
   "metadata": {},
   "outputs": [],
   "source": [
    "import os\n",
    "import sys\n",
    "import io"
   ]
  },
  {
   "cell_type": "code",
   "execution_count": null,
   "metadata": {},
   "outputs": [],
   "source": [
    "try:\n",
    "    import urllib.request as urllib2  # Python 3\n",
    "except:\n",
    "    import urllib2  # Python 2\n",
    "    \n",
    "R_exe=\"R-Portable_3.6.2.paf.exe\"\n",
    "R_url=\"https://vorboss.dl.sourceforge.net/project/rportable/R-Portable/3.6.2/R-Portable_3.6.2.paf.exe\"\n",
    "hashes=\"d6f917e9daf1d5a552bf1f9ca8b39a42205d1e78cfcee315bf17963d7e9f2ec0\" # sha256\n",
    "    \n",
    "R_installer=os.environ[\"APPSDIR\"]+\"\\\\datafiles\\\\\"+R_exe\n",
    "\n",
    "# We neet 7zip to extract the Installer. If the Julia kernel is installed, it will be in apps\\Julia-<Version>\\libexec\n",
    "p7zexe=os.environ[\"APPSDIR\"]+\"\\\\Julia-1.3.1\\\\libexec\\\\7z.exe\""
   ]
  },
  {
   "cell_type": "code",
   "execution_count": null,
   "metadata": {},
   "outputs": [],
   "source": [
    "# start download\n",
    "g = urllib2.urlopen(R_url) \n",
    "with io.open(R_installer, 'wb') as f:\n",
    "    f.write(g.read())\n",
    "g.close\n",
    "g = None"
   ]
  },
  {
   "cell_type": "code",
   "execution_count": null,
   "metadata": {},
   "outputs": [],
   "source": [
    "# checking the hashes\n",
    "import hashlib\n",
    "def give_hash(of_file, with_this):\n",
    "    with io.open(R_installer, 'rb') as f:\n",
    "        return with_this(f.read()).hexdigest()  \n",
    "print (\" \"*30+\"SHA-256\"+\" \"*30+\"\\n\"+\"-\"*65)\n",
    "\n",
    "print (\"%s %s\" % (give_hash(R_installer, hashlib.sha256),R_installer))\n",
    "assert give_hash(R_installer, hashlib.sha256) == hashes"
   ]
  },
  {
   "cell_type": "code",
   "execution_count": null,
   "metadata": {},
   "outputs": [],
   "source": [
    "#extract the installer with 7z\n",
    "from subprocess import run\n",
    "extr_path = os.environ[\"APPSDIR\"]+\"\\\\R-Portable\"\n",
    "run(p7zexe+' x '+ R_installer + ' -x!$* -o' + extr_path) # do not extract the $PLUGINSDIR folder"
   ]
  },
  {
   "cell_type": "code",
   "execution_count": null,
   "metadata": {},
   "outputs": [],
   "source": [
    "# writing a R script to install necessary packages\n",
    "Rscript_text = r\"\"\"\n",
    "install.packages(c('stringi'),repos=\"https://cloud.r-project.org/\",type=\"binary\")\n",
    "install.packages(c('repr', 'IRdisplay', 'evaluate', 'crayon', 'pbdZMQ', 'devtools', 'uuid', 'digest'),repos=\"https://cloud.r-project.org/\",type=\"binary\")\n",
    "devtools::install_github('IRkernel/IRkernel')\n",
    "IRkernel::installspec()\n",
    "\"\"\"\n",
    "if sys.version_info[0] == 3:\n",
    "    with io.open(\"temp1.R\", 'w', encoding = sys.getdefaultencoding() ) as f:\n",
    "        for line in Rscript_text.splitlines():\n",
    "            f.write('%s\\n' %  line  )\n",
    "else:\n",
    "    with io.open(\"temp1.R\", 'wb'  ) as f:\n",
    "        for line in Rscript_text.splitlines():\n",
    "            f.write('%s\\r\\n' %  line.encode(sys.getdefaultencoding()) )"
   ]
  },
  {
   "cell_type": "code",
   "execution_count": null,
   "metadata": {},
   "outputs": [],
   "source": [
    "# call R script\n",
    "Rscript_exe = os.environ[\"APPSDIR\"]+\"\\\\R-Portable\\\\App\\\\R-Portable\\\\bin\\\\Rscript.exe\"\n",
    "#subprocess.call(Rscript_exe+\" temp1.R\")\n",
    "run(Rscript_exe+\" temp1.R\")"
   ]
  },
  {
   "cell_type": "code",
   "execution_count": null,
   "metadata": {},
   "outputs": [],
   "source": [
    "# install kernel.json manually\n",
    "kernel_path=os.environ[\"APPSDIR\"]+\"\\\\share\\\\jupyter\\\\kernels\\\\R\"\n",
    "os.mkdir(kernel_path)\n",
    "Rkernel_text = r\"\"\"\n",
    "{\n",
    "\"argv\": [\n",
    "            \"{prefix}/R-Portable/App/R-Portable/bin/x64/R.exe\",\n",
    "            \"--slave\",\n",
    "            \"-e\",\n",
    "            \"IRkernel::main()\",\n",
    "            \"--args\",\n",
    "            \"{connection_file}\"],\n",
    " \"display_name\":\"R\",\n",
    " \"language\": \"R\"\n",
    "}\n",
    "\"\"\"\n",
    "\n",
    "# copy js and png file from default installation\n",
    "os.rename(os.environ[\"APPSDIR\"]+\"\\\\datafiles\\\\kernels\\\\ir\\\\logo-64x64.png\",os.environ[\"APPSDIR\"]+\"\\\\share\\\\jupyter\\\\kernels\\\\R\\\\logo-64x64.png\")\n",
    "os.rename(os.environ[\"APPSDIR\"]+\"\\\\datafiles\\\\kernels\\\\ir\\\\kernel.js\",os.environ[\"APPSDIR\"]+\"\\\\share\\\\jupyter\\\\kernels\\\\R\\\\kernel.js\")\n",
    "os.remove(os.environ[\"APPSDIR\"]+\"\\\\datafiles\\\\kernels\\\\ir\\\\kernel.json\")\n",
    "os.rmdir(os.environ[\"APPSDIR\"]+\"\\\\datafiles\\\\kernels\\\\ir\")\n",
    "\n",
    "if sys.version_info[0] == 3:\n",
    "    with io.open(kernel_path+\"\\\\kernel.json\", 'w', encoding = sys.getdefaultencoding() ) as f:\n",
    "        for line in Rkernel_text.splitlines():\n",
    "            f.write('%s\\n' %  line  )\n",
    "else:\n",
    "    with io.open(kernel_path+\"\\\\kernel.json\", 'wb'  ) as f:\n",
    "        for line in Rkernel_text.splitlines():\n",
    "            f.write('%s\\r\\n' %  line.encode(sys.getdefaultencoding()) )"
   ]
  },
  {
   "cell_type": "code",
   "execution_count": null,
   "metadata": {},
   "outputs": [],
   "source": [
    "# delete setup files\n",
    "os.remove(R_installer)\n",
    "os.remove(\"temp1.R\")"
   ]
  }
 ],
 "metadata": {
  "kernelspec": {
   "display_name": "Python 3",
   "language": "python",
   "name": "python3"
  },
  "language_info": {
   "codemirror_mode": {
    "name": "ipython",
    "version": 3
   },
   "file_extension": ".py",
   "mimetype": "text/x-python",
   "name": "python",
   "nbconvert_exporter": "python",
   "pygments_lexer": "ipython3",
   "version": "3.7.0"
  }
 },
 "nbformat": 4,
 "nbformat_minor": 2
}
